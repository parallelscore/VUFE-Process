{
  "nbformat": 4,
  "nbformat_minor": 0,
  "metadata": {
    "colab": {
      "name": "AI Test .ipynb",
      "provenance": []
    },
    "kernelspec": {
      "name": "python3",
      "display_name": "Python 3"
    }
  },
  "cells": [
    {
      "cell_type": "code",
      "metadata": {
        "id": "NrD_rj0Mo80l"
      },
      "source": [
        "import numpy as np\r\n",
        "import cv2\r\n",
        "import os\r\n",
        "import sys\r\n",
        "import pdb\r\n",
        "import gdown"
      ],
      "execution_count": 4,
      "outputs": []
    },
    {
      "cell_type": "code",
      "metadata": {
        "colab": {
          "base_uri": "https://localhost:8080/"
        },
        "id": "OJ8_Ei0OpG05",
        "outputId": "4f16c0ad-cc91-4efd-92d7-e35937a2c394"
      },
      "source": [
        "import gdown\r\n",
        "!gdown --id 13ct-WynD22AoOaMCLkFkVTlC38pNsara"
      ],
      "execution_count": 6,
      "outputs": [
        {
          "output_type": "stream",
          "text": [
            "Downloading...\n",
            "From: https://drive.google.com/uc?id=13ct-WynD22AoOaMCLkFkVTlC38pNsara\n",
            "To: /content/TestVideo.mp4\n",
            "6.40MB [00:00, 24.2MB/s]\n"
          ],
          "name": "stdout"
        }
      ]
    },
    {
      "cell_type": "code",
      "metadata": {
        "colab": {
          "base_uri": "https://localhost:8080/"
        },
        "id": "pW2HHGZ1xSPA",
        "outputId": "cccf55b5-1197-41f7-ad86-8fefbc053ba2"
      },
      "source": [
        "### get the cascadess\r\n",
        "!wget https://github.com/ShinobiCCTV/OpenCVcascades/raw/master/cascades/haarcascade_frontalface_default.xml"
      ],
      "execution_count": 12,
      "outputs": [
        {
          "output_type": "stream",
          "text": [
            "--2021-03-10 11:03:37--  https://github.com/ShinobiCCTV/OpenCVcascades/raw/master/cascades/haarcascade_frontalface_default.xml\n",
            "Resolving github.com (github.com)... 140.82.114.3\n",
            "Connecting to github.com (github.com)|140.82.114.3|:443... connected.\n",
            "HTTP request sent, awaiting response... 302 Found\n",
            "Location: https://raw.githubusercontent.com/ShinobiCCTV/OpenCVcascades/master/cascades/haarcascade_frontalface_default.xml [following]\n",
            "--2021-03-10 11:03:38--  https://raw.githubusercontent.com/ShinobiCCTV/OpenCVcascades/master/cascades/haarcascade_frontalface_default.xml\n",
            "Resolving raw.githubusercontent.com (raw.githubusercontent.com)... 185.199.111.133, 185.199.108.133, 185.199.110.133, ...\n",
            "Connecting to raw.githubusercontent.com (raw.githubusercontent.com)|185.199.111.133|:443... connected.\n",
            "HTTP request sent, awaiting response... 200 OK\n",
            "Length: 930127 (908K) [text/plain]\n",
            "Saving to: ‘haarcascade_frontalface_default.xml’\n",
            "\n",
            "haarcascade_frontal 100%[===================>] 908.33K  --.-KB/s    in 0.03s   \n",
            "\n",
            "2021-03-10 11:03:38 (26.8 MB/s) - ‘haarcascade_frontalface_default.xml’ saved [930127/930127]\n",
            "\n"
          ],
          "name": "stdout"
        }
      ]
    },
    {
      "cell_type": "code",
      "metadata": {
        "id": "Flfu1dMjw3q2"
      },
      "source": [
        "import cv2  \r\n",
        "      \r\n",
        "# Load the cascade  \r\n",
        "face_cascade = cv2.CascadeClassifier('haarcascade_frontalface_default.xml')  \r\n",
        "      \r\n",
        "# To capture vide0 \r\n",
        "cap = cv2.VideoCapture('/content/TestVideo.mp4')  \r\n",
        "\r\n",
        "while True:  \r\n",
        "   # Read the frame  \r\n",
        "   _, img = cap.read()  \r\n",
        "    # Convert to grayscale\r\n",
        "gray = cv2.cvtColor(img, cv2.COLOR_BGR2GRAY)\r\n",
        "    # Detect the faces  \r\n",
        "faces = face_cascade.detectMultiScale(gray, 1.1, 4)  \r\n",
        "# Draw the rectangle around each face  \r\n",
        "for (x, y, w, h) in faces:\r\n",
        "  cv2.rectangle(img, (x, y), (x+w, y+h), (255, 0, 0), 2)\r\n",
        "  # Display\r\n",
        "  cv2.imshow('Video', img)\r\n",
        "  # Stop if escape key is pressed\r\n",
        "  k = cv2.waitKey(30) & 0xff\r\n",
        "  if k==27:\r\n",
        "    break\r\n",
        "    # Release the VideoCapture object\r\n",
        "    cap.release()  "
      ],
      "execution_count": null,
      "outputs": []
    },
    {
      "cell_type": "code",
      "metadata": {
        "id": "qz1fH2O3vnen"
      },
      "source": [
        ""
      ],
      "execution_count": null,
      "outputs": []
    }
  ]
}